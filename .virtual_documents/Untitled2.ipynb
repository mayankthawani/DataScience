import time 
import numpy as np
size = 1_000_000
list1 = list(range(size))
npa = np.array(list1)
start = time.time()
numpy_squares = npa ** 2
end = time.time()
print(end - start)


import time 
size = 1_000_000
list1 = list(range(size))
list2 = list(range(size))
start = time.time()
list_squares = [x**2 for x in list1]
end = time.time()
print("Python list square time:", end - start)




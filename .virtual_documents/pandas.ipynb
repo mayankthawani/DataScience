import pandas as pd



#Pandas is built on two main data structures:
# Series → One-dimensional (like a single column in Excel)
# DataFrame → Two-dimensional (like a full spreadsheet or SQL table)
s = pd.Series([12,49,76,4,8,9,54,3,43])
print(s)


#dataFrame
data = {
    "name": ["Alice", "Bob", "Charlie"],
    "age": [25, 30, 35],
    "city": ["Delhi", "Mumbai", "Bangalore"]
}
df = pd.DataFrame(data)
print(df)


data = [["Harry" , 90] , ["Mayank" , 100] , ["Tanvi" , 89]]
df = pd.DataFrame(data , columns = ["Name" , "Marks"])
print(df)


pd.read_excel("Book1.xlsx")


url = "https://raw.githubusercontent.com/mwaskom/seaborn-data/master/tips.csv"
df = pd.read_csv(url)
print(df)


# performming EDA exploratory data analysis
df.head()


df.tail()


df.info()



#Use df[col], .loc[], .iloc[], .at[], .iat[] to access data
import pandas as pd
df = pd.read_csv('duta.csv')


df


df.loc()


df.loc[0:2 , ['Actor']] #indexibng throught name types


df.iloc[7,5] #indexing through number


df.at[0 , "Actor"] # indexing particular fastt


df.iat[0 , 1]


df[df["IMDb"] > 7] #filtering


df[(df["IMDb"] > 7) & (df["Year"] > 2020)]


#query
df.query("Year>2018 and IMDb > 6")


#DATA CLEANING AND PREPROCESSING
import pandas as pd
da = pd.read_csv("data_cleaning_sample.csv")
print(da)


da


da.isnull()


#To check per coloumn how many nul values is t6here 
da.isnull().sum()


da.dropna()


da.fillna(0) #filling method 1


#filling method 2
da["Age"].fillna(da["Age"].mean())


#filling method 3
da.fillna(method = 'ffill')


#filling method 4
da.fillna(method = 'bfill')


da.duplicated()


da.drop_duplicates()


#APPLY FUNCTION
da['Age Group'] = da['Age'].apply(lambda x:"adult" if x>=25 else "minor")


da



#Data Transformation
import pandas as pd
df = pd.read_csv("duta.csv")


 


df


df.sort_values("Year")


df.sort_values("Year" , ascending = "False")


df.sort_values("Year" , ascending = False)


df.reset_index(drop=True) #FOE INDEXIING


df['Rank'] = df['IMDb'].rank(ascending = True , method = 'dense')


df



#Important function not studied 
# Renaming Columns & Index
# df.rename(columns={"oldName": "newName"}, inplace=True)
# df.rename(index={0: "row1", 1: "row2"}, inplace=True)


#AGREEGATION AND GROUPING
df = pd.DataFrame({
    "Department": ["HR", "HR", "IT", "IT", "Marketing", "Marketing", "Sales", "Sales"],
    "Team": ["A", "A", "B", "B", "C", "C", "D", "D"],
    "Gender": ["M", "F", "M", "F", "M", "F", "M", "F"],
    "Salary": [85, 90, 78, 85, 92, 88, 75, 80],
    "Age": [23, 25, 30, 22, 28, 26, 21, 27],
    "JoinDate": pd.to_datetime([
        "2020-01-10", "2020-02-15", "2021-03-20", "2021-04-10",
        "2020-05-30", "2020-06-25", "2021-07-15", "2021-08-01"
    ])
})  



df


df.groupby('Department')['Salary'].mean()




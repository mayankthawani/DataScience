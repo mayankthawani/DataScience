import json


import json

data = {
    "users": [
        {"id": 1, "name": "Amit", "friends": [2, 3], "liked_pages": [101]},
        {"id": 2, "name": "Priya", "friends": [1, 4], "liked_pages": [102]},
        {"id": 3, "name": "Rahul", "friends": [1], "liked_pages": [101, 103]},
        {"id": 4, "name": "Sara", "friends": [2], "liked_pages": [104]}
    ],
    "pages": [
        {"id": 101, "name": "Python Developers"},
        {"id": 102, "name": "Data Science Enthusiasts"},
        {"id": 103, "name": "AI & ML Community"},
        {"id": 104, "name": "Web Dev Hub"}
    ]
}

# Write JSON to file
with open("data.json", "w") as f:
    json.dump(data, f, indent=4)  # indent=4 makes it pretty-formatted

print("JSON file created successfully!")



#writing the function to see or load the data


import json 
#write a function to load the data 
def load_data(filename):
    with open(filename, "r") as f:
        data = json.load(f)
        return data
    


data = load_data("data.json")





#write a function to the users and their connections 
def show_users(data):
    print("users and there connection")
    for user in data['users']:
        print(f"{user['name']} is freinds with {user['friends']} and liked pages are {user['liked_pages']} ")
    for page in data['pages']:
        print(f"The ID is {page['id']} and the name is {page['name']}")


show_users(data)


import json 

data = {
    "users": [
        {"id": 1, "name": "Amit", "friends": [2, 3], "liked_pages": [101]},
        {"id": 2, "name": "Priya", "friends": [1, 4], "liked_pages": [102]},
        {"id": 3, "name": "", "friends": [1], "liked_pages": [101, 103]},
        {"id": 4, "name": "Sara", "friends": [2, 2], "liked_pages": [104]},
        {"id": 5, "name": "Amit", "friends": [], "liked_pages": []}
    ],
    "pages": [
        {"id": 101, "name": "Python Developers"},
        {"id": 102, "name": "Data Science Enthusiasts"},
        {"id": 103, "name": "AI & ML Community"},
        {"id": 104, "name": "Web Dev Hub"},
        {"id": 104, "name": "Web Development"}
    ]
}

with open("data_cleaning.json" , "w") as f:
    json.dump(data , f, indent=4 )
    print("json data created succesfully")


#Data cleaning 
#1st step is load the data 
import json 
def clean_data(data):
    #removiung users with no name 
    data["users"] = [user for user in data["users"] if user["name"].strip() ]
    for user in data['users']:
        user['friends'] = list(set(user['friends'])) 
        #inactive users
        data["users"] = [user for user in data["users"] if user["friends"] or user["liked_pages"]]
        unique_pages = {}
        for page in data["pages"]:
            unique_pages[page["id"]] = page
            data["pages"] = list(unique_pages.values())
    return data

data = json.load(open("data_cleaning.json"))
data = clean_data(data)
json.dump(data,open("cleaned_data.json" , "w"), indent=4)
print("data has been cleaned succesfuly")



import json
def load_data(filename):
    with open(filename , 'r') as f:
        return json.load(f)

def mutual_friends(user_id , data):
    user_friends = {}
    for user in data["users"]:
        user_friends[user["id"]] = set(user["friends"])

    if user_id not in user_friends:
        return[]

    direct_friends = user_friends[user_id]
    suggestion = {}
    for friends in direct_friends:
        for mutual in user_friends[friends]:
            if mutual != user_id and mutual not in direct_friends:
                #counting mutual friends
                suggestion[mutual] = suggestion.get(mutual , 0) + 1 

    sorted_suggestion = sorted(suggestion.items(), key = lambda x:x[1] , reverse = True)
    return [user_id for user_id , _id in sorted_suggestion]
    pass

data = load_data("data.json")
user_id = 3
recc = mutual_friends(user_id , data)
print(recc)



import json #like pages suggesion 
def loadfile(filename):
    with open(filename , "r") as f:
        return json.load(f)

#function to find pages a user can like based on common intrest
def find_pages(user_id, data):
    user_pages = {}
    for user in data["users"]:
        user_pages[user['id']] = set(user['liked_pages'])

    if user_id not in user_pages:
        return[]
    user_liked_pages = user_pages[user_id]

    #its difficult cant understand 

        





    




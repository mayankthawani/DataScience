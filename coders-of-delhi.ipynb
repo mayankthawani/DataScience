{
 "cells": [
  {
   "cell_type": "code",
   "execution_count": 1,
   "id": "6d8a8a5b-6a68-4da8-ad00-eab531ddbaba",
   "metadata": {},
   "outputs": [],
   "source": [
    "import json"
   ]
  },
  {
   "cell_type": "code",
   "execution_count": 5,
   "id": "faac5325-098b-493c-a3ae-68ea6e528839",
   "metadata": {},
   "outputs": [
    {
     "name": "stdout",
     "output_type": "stream",
     "text": [
      "JSON file created successfully!\n"
     ]
    }
   ],
   "source": [
    "import json\n",
    "\n",
    "data = {\n",
    "    \"users\": [\n",
    "        {\"id\": 1, \"name\": \"Amit\", \"friends\": [2, 3], \"liked_pages\": [101]},\n",
    "        {\"id\": 2, \"name\": \"Priya\", \"friends\": [1, 4], \"liked_pages\": [102]},\n",
    "        {\"id\": 3, \"name\": \"Rahul\", \"friends\": [1], \"liked_pages\": [101, 103]},\n",
    "        {\"id\": 4, \"name\": \"Sara\", \"friends\": [2], \"liked_pages\": [104]}\n",
    "    ],\n",
    "    \"pages\": [\n",
    "        {\"id\": 101, \"name\": \"Python Developers\"},\n",
    "        {\"id\": 102, \"name\": \"Data Science Enthusiasts\"},\n",
    "        {\"id\": 103, \"name\": \"AI & ML Community\"},\n",
    "        {\"id\": 104, \"name\": \"Web Dev Hub\"}\n",
    "    ]\n",
    "}\n",
    "\n",
    "# Write JSON to file\n",
    "with open(\"data.json\", \"w\") as f:\n",
    "    json.dump(data, f, indent=4)  # indent=4 makes it pretty-formatted\n",
    "\n",
    "print(\"JSON file created successfully!\")\n"
   ]
  },
  {
   "cell_type": "code",
   "execution_count": 6,
   "id": "6ffef2f0-ad88-4bd4-8a97-19a2c89f158a",
   "metadata": {},
   "outputs": [],
   "source": [
    "#writing the function to see or load the data"
   ]
  },
  {
   "cell_type": "code",
   "execution_count": 5,
   "id": "c524b539-fcde-454a-ae89-30f033bdaaa7",
   "metadata": {},
   "outputs": [],
   "source": [
    "import json \n",
    "#write a function to load the data \n",
    "def load_data(filename):\n",
    "    with open(filename, \"r\") as f:\n",
    "        data = json.load(f)\n",
    "        return data\n",
    "    "
   ]
  },
  {
   "cell_type": "code",
   "execution_count": 6,
   "id": "07963a9b-4620-40c1-86e7-ac2a0b2d6f1a",
   "metadata": {},
   "outputs": [],
   "source": [
    "data = load_data(\"data.json\")"
   ]
  },
  {
   "cell_type": "raw",
   "id": "211efde4-ef80-46b6-87d7-a049030c0b4d",
   "metadata": {},
   "source": [
    "print(data)"
   ]
  },
  {
   "cell_type": "code",
   "execution_count": 15,
   "id": "9b8125a8-f3d3-4886-b40f-1ba008bed1a0",
   "metadata": {},
   "outputs": [],
   "source": [
    "#write a function to the users and their connections \n",
    "def show_users(data):\n",
    "    print(\"users and there connection\")\n",
    "    for user in data['users']:\n",
    "        print(f\"{user['name']} is freinds with {user['friends']} and liked pages are {user['liked_pages']} \")\n",
    "    for page in data['pages']:\n",
    "        print(f\"The ID is {page['id']} and the name is {page['name']}\")"
   ]
  },
  {
   "cell_type": "code",
   "execution_count": 16,
   "id": "6d3b89cf-3466-4267-8759-c2854803b7f8",
   "metadata": {},
   "outputs": [
    {
     "name": "stdout",
     "output_type": "stream",
     "text": [
      "users and there connection\n",
      "Amit is freinds with [2, 3] and liked pages are [101] \n",
      "Priya is freinds with [1, 4] and liked pages are [102] \n",
      "Rahul is freinds with [1] and liked pages are [101, 103] \n",
      "Sara is freinds with [2] and liked pages are [104] \n",
      "The ID is 101 and the name is Python Developers\n",
      "The ID is 102 and the name is Data Science Enthusiasts\n",
      "The ID is 103 and the name is AI & ML Community\n",
      "The ID is 104 and the name is Web Dev Hub\n"
     ]
    }
   ],
   "source": [
    "show_users(data)"
   ]
  },
  {
   "cell_type": "code",
   "execution_count": 20,
   "id": "f016a170-1502-428c-a470-81a23b93ee42",
   "metadata": {},
   "outputs": [
    {
     "name": "stdout",
     "output_type": "stream",
     "text": [
      "json data created succesfully\n"
     ]
    }
   ],
   "source": [
    "import json \n",
    "\n",
    "data = {\n",
    "    \"users\": [\n",
    "        {\"id\": 1, \"name\": \"Amit\", \"friends\": [2, 3], \"liked_pages\": [101]},\n",
    "        {\"id\": 2, \"name\": \"Priya\", \"friends\": [1, 4], \"liked_pages\": [102]},\n",
    "        {\"id\": 3, \"name\": \"\", \"friends\": [1], \"liked_pages\": [101, 103]},\n",
    "        {\"id\": 4, \"name\": \"Sara\", \"friends\": [2, 2], \"liked_pages\": [104]},\n",
    "        {\"id\": 5, \"name\": \"Amit\", \"friends\": [], \"liked_pages\": []}\n",
    "    ],\n",
    "    \"pages\": [\n",
    "        {\"id\": 101, \"name\": \"Python Developers\"},\n",
    "        {\"id\": 102, \"name\": \"Data Science Enthusiasts\"},\n",
    "        {\"id\": 103, \"name\": \"AI & ML Community\"},\n",
    "        {\"id\": 104, \"name\": \"Web Dev Hub\"},\n",
    "        {\"id\": 104, \"name\": \"Web Development\"}\n",
    "    ]\n",
    "}\n",
    "\n",
    "with open(\"data_cleaning.json\" , \"w\") as f:\n",
    "    json.dump(data , f, indent=4 )\n",
    "    print(\"json data created succesfully\")"
   ]
  },
  {
   "cell_type": "code",
   "execution_count": 16,
   "id": "ce74f11c-3910-4475-abed-9fe0518aa7eb",
   "metadata": {},
   "outputs": [
    {
     "name": "stdout",
     "output_type": "stream",
     "text": [
      "data has been cleaned succesfuly\n"
     ]
    }
   ],
   "source": [
    "#Data cleaning \n",
    "#1st step is load the data \n",
    "import json \n",
    "def clean_data(data):\n",
    "    #removiung users with no name \n",
    "    data[\"users\"] = [user for user in data[\"users\"] if user[\"name\"].strip() ]\n",
    "    for user in data['users']:\n",
    "        user['friends'] = list(set(user['friends'])) \n",
    "        #inactive users\n",
    "        data[\"users\"] = [user for user in data[\"users\"] if user[\"friends\"] or user[\"liked_pages\"]]\n",
    "        unique_pages = {}\n",
    "        for page in data[\"pages\"]:\n",
    "            unique_pages[page[\"id\"]] = page\n",
    "            data[\"pages\"] = list(unique_pages.values())\n",
    "    return data\n",
    "\n",
    "data = json.load(open(\"data_cleaning.json\"))\n",
    "data = clean_data(data)\n",
    "json.dump(data,open(\"cleaned_data.json\" , \"w\"), indent=4)\n",
    "print(\"data has been cleaned succesfuly\")\n"
   ]
  },
  {
   "cell_type": "code",
   "execution_count": 24,
   "id": "e721a97d-4a7c-4732-8bf7-aba863385a7a",
   "metadata": {},
   "outputs": [
    {
     "name": "stdout",
     "output_type": "stream",
     "text": [
      "[2]\n"
     ]
    }
   ],
   "source": [
    "import json\n",
    "def load_data(filename):\n",
    "    with open(filename , 'r') as f:\n",
    "        return json.load(f)\n",
    "\n",
    "def mutual_friends(user_id , data):\n",
    "    user_friends = {}\n",
    "    for user in data[\"users\"]:\n",
    "        user_friends[user[\"id\"]] = set(user[\"friends\"])\n",
    "\n",
    "    if user_id not in user_friends:\n",
    "        return[]\n",
    "\n",
    "    direct_friends = user_friends[user_id]\n",
    "    suggestion = {}\n",
    "    for friends in direct_friends:\n",
    "        for mutual in user_friends[friends]:\n",
    "            if mutual != user_id and mutual not in direct_friends:\n",
    "                #counting mutual friends\n",
    "                suggestion[mutual] = suggestion.get(mutual , 0) + 1 \n",
    "\n",
    "    sorted_suggestion = sorted(suggestion.items(), key = lambda x:x[1] , reverse = True)\n",
    "    return [user_id for user_id , _id in sorted_suggestion]\n",
    "    pass\n",
    "\n",
    "data = load_data(\"data.json\")\n",
    "user_id = 3\n",
    "recc = mutual_friends(user_id , data)\n",
    "print(recc)\n"
   ]
  },
  {
   "cell_type": "code",
   "execution_count": 2,
   "id": "fc82f516-409e-4dee-ae7b-b7290fab21b6",
   "metadata": {},
   "outputs": [],
   "source": [
    "import json #like pages suggesion \n",
    "def loadfile(filename):\n",
    "    with open(filename , \"r\") as f:\n",
    "        return json.load(f)\n",
    "\n",
    "#function to find pages a user can like based on common intrest\n",
    "def find_pages(user_id, data):\n",
    "    user_pages = {}\n",
    "    for user in data[\"users\"]:\n",
    "        user_pages[user['id']] = set(user['liked_pages'])\n",
    "\n",
    "    if user_id not in user_pages:\n",
    "        return[]\n",
    "    user_liked_pages = user_pages[user_id]\n",
    "\n",
    "    #its difficult cant understand \n",
    "\n",
    "        \n",
    "\n",
    "\n",
    "\n",
    "\n",
    "\n",
    "    "
   ]
  },
  {
   "cell_type": "code",
   "execution_count": null,
   "id": "b41d95bc-afb2-4ab2-a74f-8786434763c3",
   "metadata": {},
   "outputs": [],
   "source": []
  }
 ],
 "metadata": {
  "kernelspec": {
   "display_name": "Python [conda env:base] *",
   "language": "python",
   "name": "conda-base-py"
  },
  "language_info": {
   "codemirror_mode": {
    "name": "ipython",
    "version": 3
   },
   "file_extension": ".py",
   "mimetype": "text/x-python",
   "name": "python",
   "nbconvert_exporter": "python",
   "pygments_lexer": "ipython3",
   "version": "3.13.5"
  }
 },
 "nbformat": 4,
 "nbformat_minor": 5
}

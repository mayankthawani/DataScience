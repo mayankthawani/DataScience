{
 "cells": [
  {
   "cell_type": "markdown",
   "id": "77e8e703-70ea-4e69-8254-10648c4a1192",
   "metadata": {},
   "source": [
    "# "
   ]
  },
  {
   "cell_type": "code",
   "execution_count": 2,
   "id": "4cfee36d-3d1f-4109-bf30-3956fe094d66",
   "metadata": {},
   "outputs": [],
   "source": [
    "a=5"
   ]
  },
  {
   "cell_type": "code",
   "execution_count": 3,
   "id": "fa9d804b-ba49-4e0f-b9b6-f75d160425f6",
   "metadata": {},
   "outputs": [],
   "source": [
    "b=7"
   ]
  },
  {
   "cell_type": "code",
   "execution_count": 4,
   "id": "83e4a08f-6778-48c7-a10a-7fb4c2a359aa",
   "metadata": {},
   "outputs": [
    {
     "data": {
      "text/plain": [
       "12"
      ]
     },
     "execution_count": 4,
     "metadata": {},
     "output_type": "execute_result"
    }
   ],
   "source": [
    "a+b"
   ]
  },
  {
   "cell_type": "code",
   "execution_count": 5,
   "id": "a1f7fa66-a1f8-4058-aca1-bd7aca82bded",
   "metadata": {},
   "outputs": [],
   "source": [
    "#Strings"
   ]
  },
  {
   "cell_type": "code",
   "execution_count": 6,
   "id": "8de0bf02-69ac-4555-953c-6d8172cb513b",
   "metadata": {},
   "outputs": [
    {
     "name": "stdout",
     "output_type": "stream",
     "text": [
      "mayank\n"
     ]
    }
   ],
   "source": [
    "name = \"mayank\"\n",
    "print(name)"
   ]
  },
  {
   "cell_type": "code",
   "execution_count": 8,
   "id": "94f3098f-323b-44c4-8cf5-7ff3b6309b89",
   "metadata": {},
   "outputs": [],
   "source": [
    "#inputs\n",
    "\n"
   ]
  },
  {
   "cell_type": "code",
   "execution_count": 9,
   "id": "0b21071b-0a47-457d-8357-ce2d5630ff96",
   "metadata": {},
   "outputs": [
    {
     "name": "stdin",
     "output_type": "stream",
     "text": [
      "enter the value of a 45\n"
     ]
    }
   ],
   "source": [
    "a = int(input(\"enter the value of a\"))"
   ]
  },
  {
   "cell_type": "code",
   "execution_count": 10,
   "id": "19ccc63e-7293-4e76-b3bb-0316c7f4b080",
   "metadata": {},
   "outputs": [
    {
     "name": "stdin",
     "output_type": "stream",
     "text": [
      "enter the value of a 45\n"
     ]
    }
   ],
   "source": [
    "a = int(input(\"enter the value of a\"))\n",
    "\n",
    "\n"
   ]
  },
  {
   "cell_type": "code",
   "execution_count": 11,
   "id": "75a62837-b4c7-4d2f-aec2-61588d552caa",
   "metadata": {},
   "outputs": [
    {
     "data": {
      "text/plain": [
       "52"
      ]
     },
     "execution_count": 11,
     "metadata": {},
     "output_type": "execute_result"
    }
   ],
   "source": [
    "a+b"
   ]
  },
  {
   "cell_type": "code",
   "execution_count": 1,
   "id": "134b3ef8-23bb-485d-a0b3-32409e00e218",
   "metadata": {},
   "outputs": [],
   "source": [
    "#by default its in the string"
   ]
  },
  {
   "cell_type": "code",
   "execution_count": 3,
   "id": "54c49a85-a726-4f7a-bb34-30d1a74d6c17",
   "metadata": {},
   "outputs": [],
   "source": [
    "#functions in python"
   ]
  },
  {
   "cell_type": "code",
   "execution_count": 5,
   "id": "934c272d-24e1-44a2-b121-6133b0f8b2b4",
   "metadata": {},
   "outputs": [],
   "source": [
    "def add(a , b):\n",
    "    return a+b\n"
   ]
  },
  {
   "cell_type": "code",
   "execution_count": 6,
   "id": "ae30cf91-35b7-4388-8f5f-56a02a5b8e99",
   "metadata": {},
   "outputs": [
    {
     "data": {
      "text/plain": [
       "5"
      ]
     },
     "execution_count": 6,
     "metadata": {},
     "output_type": "execute_result"
    }
   ],
   "source": [
    "add(2,3)"
   ]
  },
  {
   "cell_type": "code",
   "execution_count": 7,
   "id": "02758c05-6fef-4f8b-b399-4aec6952dae3",
   "metadata": {},
   "outputs": [
    {
     "data": {
      "text/plain": [
       "11"
      ]
     },
     "execution_count": 7,
     "metadata": {},
     "output_type": "execute_result"
    }
   ],
   "source": [
    "add(5,6)"
   ]
  },
  {
   "cell_type": "code",
   "execution_count": 8,
   "id": "b2c32cec-5b24-4b94-9c1d-bfd1379be366",
   "metadata": {},
   "outputs": [],
   "source": [
    "#match case like a switch in c in python its a match\n"
   ]
  },
  {
   "cell_type": "code",
   "execution_count": 9,
   "id": "c235af1f-f42b-4d80-a6f5-4b31bfb3ec74",
   "metadata": {},
   "outputs": [],
   "source": [
    "def http(code):\n",
    "    match code:\n",
    "        case 200:\n",
    "            return \"ok\"\n",
    "        case 201:\n",
    "            return \"created\"\n",
    "        case 500:\n",
    "            return \"internal server error\"\n",
    "\n",
    "\n",
    "    "
   ]
  },
  {
   "cell_type": "code",
   "execution_count": 10,
   "id": "ad667a62-2f42-4a1b-ba2d-096cdae30221",
   "metadata": {},
   "outputs": [
    {
     "data": {
      "text/plain": [
       "'internal server error'"
      ]
     },
     "execution_count": 10,
     "metadata": {},
     "output_type": "execute_result"
    }
   ],
   "source": [
    "http(500)"
   ]
  },
  {
   "cell_type": "code",
   "execution_count": 11,
   "id": "41598d93-6f16-4fb4-b00e-5c5cfa8b4947",
   "metadata": {},
   "outputs": [],
   "source": [
    "#String formating in python "
   ]
  },
  {
   "cell_type": "code",
   "execution_count": 12,
   "id": "761f7e78-5841-4159-9473-ca5d062d2c91",
   "metadata": {},
   "outputs": [
    {
     "name": "stdout",
     "output_type": "stream",
     "text": [
      "hello my name ius mayank ang i am 19 years old\n"
     ]
    }
   ],
   "source": [
    "name = \"mayank\"\n",
    "age = \"19\"\n",
    "print(\"hello my name ius {} ang i am {} years old\".format(name , age))"
   ]
  },
  {
   "cell_type": "code",
   "execution_count": 14,
   "id": "efd5b41a-3d74-4956-8b96-36c3a85e4ee3",
   "metadata": {},
   "outputs": [
    {
     "name": "stdout",
     "output_type": "stream",
     "text": [
      "Hello my name is mayank and i am 19 years old\n"
     ]
    }
   ],
   "source": [
    "#fstring\n",
    "print(f\"Hello my name is {name} and i am {age} years old\")"
   ]
  },
  {
   "cell_type": "code",
   "execution_count": 15,
   "id": "c1db97b7-5f37-4654-ae88-4fff618c2695",
   "metadata": {},
   "outputs": [],
   "source": [
    "#loops"
   ]
  },
  {
   "cell_type": "code",
   "execution_count": 16,
   "id": "ae2bc759-b197-4de3-8245-3d0d0f9fb06e",
   "metadata": {},
   "outputs": [
    {
     "name": "stdout",
     "output_type": "stream",
     "text": [
      "1\n",
      "2\n",
      "3\n",
      "4\n",
      "5\n",
      "6\n",
      "7\n",
      "8\n",
      "9\n",
      "10\n"
     ]
    }
   ],
   "source": [
    "a={1,2,3,4,5,6,7,8,9,10}\n",
    "for i in a:\n",
    "    print(i)\n",
    "    "
   ]
  },
  {
   "cell_type": "code",
   "execution_count": 17,
   "id": "25845a5c-427c-4fd7-b185-4eabf8f75643",
   "metadata": {},
   "outputs": [
    {
     "name": "stdout",
     "output_type": "stream",
     "text": [
      "0\n",
      "1\n",
      "2\n",
      "3\n",
      "4\n",
      "5\n",
      "6\n",
      "7\n",
      "8\n",
      "9\n"
     ]
    }
   ],
   "source": [
    "for i in range(10):  #goes till 9 n-1\n",
    "    print(i)\n",
    "    "
   ]
  },
  {
   "cell_type": "code",
   "execution_count": 18,
   "id": "ba40656f-9a69-40c7-9683-73ae9175fcbd",
   "metadata": {},
   "outputs": [
    {
     "name": "stdout",
     "output_type": "stream",
     "text": [
      "0\n",
      "1\n",
      "2\n",
      "3\n",
      "4\n"
     ]
    }
   ],
   "source": [
    "count = 0\n",
    "while(count<5):\n",
    "    print(count)\n",
    "    count+=1"
   ]
  },
  {
   "cell_type": "code",
   "execution_count": 19,
   "id": "a233f72e-acc4-427e-8744-087aa0a4b3be",
   "metadata": {},
   "outputs": [],
   "source": [
    "# list is square brackets and tuple is paranthesis"
   ]
  },
  {
   "cell_type": "code",
   "execution_count": 20,
   "id": "b1196da4-1a65-4471-b75f-a1c49ee2bf6a",
   "metadata": {},
   "outputs": [],
   "source": [
    "t = {}"
   ]
  },
  {
   "cell_type": "code",
   "execution_count": 21,
   "id": "70b08f1b-7da6-448d-9f82-08842995bf87",
   "metadata": {},
   "outputs": [
    {
     "data": {
      "text/plain": [
       "dict"
      ]
     },
     "execution_count": 21,
     "metadata": {},
     "output_type": "execute_result"
    }
   ],
   "source": [
    "type(t)"
   ]
  },
  {
   "cell_type": "code",
   "execution_count": 22,
   "id": "9803d8d4-a6d0-41af-9898-f2fe3c9d59c6",
   "metadata": {},
   "outputs": [
    {
     "data": {
      "text/plain": [
       "set"
      ]
     },
     "execution_count": 22,
     "metadata": {},
     "output_type": "execute_result"
    }
   ],
   "source": [
    "s = set()\n",
    "type(s)"
   ]
  },
  {
   "cell_type": "code",
   "execution_count": 23,
   "id": "e9d9ff44-a861-4520-9486-dc5026b2807c",
   "metadata": {},
   "outputs": [],
   "source": [
    "#Sets"
   ]
  },
  {
   "cell_type": "code",
   "execution_count": 25,
   "id": "e8cd4925-6282-4ca5-973f-0e70004e793c",
   "metadata": {},
   "outputs": [
    {
     "name": "stdout",
     "output_type": "stream",
     "text": [
      "{1, 2, 3, 4, 5, 6, 7, 10, 11, 12}\n"
     ]
    }
   ],
   "source": [
    "s = {1,2,3,4,5,6,3,2,1,10,11,12,7} # prints unique elemnet\n",
    "print(s)"
   ]
  },
  {
   "cell_type": "code",
   "execution_count": 26,
   "id": "fbc4b7f0-8fc3-416b-a3b2-714e432a9087",
   "metadata": {},
   "outputs": [
    {
     "name": "stdout",
     "output_type": "stream",
     "text": [
      "{'name': 'mayank'}\n"
     ]
    }
   ],
   "source": [
    "dic = {\"name\" : \"mayank\"}\n",
    "print(dic)"
   ]
  },
  {
   "cell_type": "code",
   "execution_count": 27,
   "id": "eea213f0-f4b4-43f5-9999-3babb2aae740",
   "metadata": {},
   "outputs": [
    {
     "name": "stdout",
     "output_type": "stream",
     "text": [
      "dict_values(['mayank'])\n"
     ]
    }
   ],
   "source": [
    "print(dic.values())"
   ]
  },
  {
   "cell_type": "code",
   "execution_count": 28,
   "id": "1991a137-31cf-4b9c-96ce-33f392d489b3",
   "metadata": {},
   "outputs": [],
   "source": [
    "#file handling read write manipulate"
   ]
  },
  {
   "cell_type": "code",
   "execution_count": 30,
   "id": "b6ecef4c-f52b-4cb7-b5f5-ebe7f121b7ea",
   "metadata": {},
   "outputs": [],
   "source": [
    "f = open(\"text.txt\", \"r\")"
   ]
  },
  {
   "cell_type": "code",
   "execution_count": 31,
   "id": "bfbf617c-eb41-4a5d-ad82-631b4821da42",
   "metadata": {},
   "outputs": [
    {
     "data": {
      "text/plain": [
       "'Maynk is a god boy'"
      ]
     },
     "execution_count": 31,
     "metadata": {},
     "output_type": "execute_result"
    }
   ],
   "source": [
    "f.read()"
   ]
  },
  {
   "cell_type": "code",
   "execution_count": 33,
   "id": "885e609a-7c87-4f22-974d-5c6d4050e39d",
   "metadata": {},
   "outputs": [],
   "source": [
    "s = \"Thid is a niuce way to learn data science\""
   ]
  },
  {
   "cell_type": "code",
   "execution_count": 34,
   "id": "7ef9d3d7-06e4-4528-8504-5d52380d7cbe",
   "metadata": {},
   "outputs": [],
   "source": [
    "f.close()"
   ]
  },
  {
   "cell_type": "code",
   "execution_count": 36,
   "id": "d31f5512-f500-4ad3-998f-95458dae3a28",
   "metadata": {},
   "outputs": [],
   "source": [
    "f = open(\"mayank.txt\" , \"w\")"
   ]
  },
  {
   "cell_type": "code",
   "execution_count": 37,
   "id": "d2b4263b-e877-4e47-b3c8-659ab5d34a9b",
   "metadata": {},
   "outputs": [
    {
     "data": {
      "text/plain": [
       "41"
      ]
     },
     "execution_count": 37,
     "metadata": {},
     "output_type": "execute_result"
    }
   ],
   "source": [
    "f.write(s)"
   ]
  },
  {
   "cell_type": "code",
   "execution_count": 38,
   "id": "b6bbfa38-42d0-4fee-9379-d683adec137e",
   "metadata": {},
   "outputs": [],
   "source": [
    "f.close()"
   ]
  },
  {
   "cell_type": "code",
   "execution_count": 1,
   "id": "1cfa165b-6c64-40bb-974e-7bb73a25ad21",
   "metadata": {},
   "outputs": [],
   "source": [
    "import json"
   ]
  },
  {
   "cell_type": "code",
   "execution_count": 4,
   "id": "f5f037a4-71b3-465d-bb2a-a2969775daa7",
   "metadata": {},
   "outputs": [],
   "source": [
    "obj = {\"name\":\"mayank\" , \"sex\":\"male\", \"age\":19}"
   ]
  },
  {
   "cell_type": "code",
   "execution_count": 5,
   "id": "6c3ccf7f-a560-477d-bd22-5f43f51abb89",
   "metadata": {},
   "outputs": [
    {
     "data": {
      "text/plain": [
       "'{\"name\": \"mayank\", \"sex\": \"male\", \"age\": 19}'"
      ]
     },
     "execution_count": 5,
     "metadata": {},
     "output_type": "execute_result"
    }
   ],
   "source": [
    "json.dumps(obj) #convert python to json"
   ]
  },
  {
   "cell_type": "code",
   "execution_count": 6,
   "id": "84e173df-33ce-4304-8564-c43ef10567f6",
   "metadata": {},
   "outputs": [],
   "source": [
    "d = json.loads('{\"name\":\"mayank\" , \"sex\":\"male\", \"age\":19}')  #convert json to python"
   ]
  },
  {
   "cell_type": "code",
   "execution_count": 7,
   "id": "8732a042-5ca7-4b1f-a8cc-850e98a4f386",
   "metadata": {},
   "outputs": [
    {
     "data": {
      "text/plain": [
       "dict"
      ]
     },
     "execution_count": 7,
     "metadata": {},
     "output_type": "execute_result"
    }
   ],
   "source": [
    "type(d)"
   ]
  },
  {
   "cell_type": "code",
   "execution_count": 8,
   "id": "0cff61fb-deca-4172-ab72-c032bbd300d9",
   "metadata": {},
   "outputs": [],
   "source": [
    " #object oriented"
   ]
  },
  {
   "cell_type": "code",
   "execution_count": 11,
   "id": "d99fc1ed-2d8c-4fa0-b297-40c3c6af0009",
   "metadata": {},
   "outputs": [
    {
     "name": "stdout",
     "output_type": "stream",
     "text": [
      "My name is Mayank i work in hp and my slary is 10000000\n"
     ]
    }
   ],
   "source": [
    "class Mayank:\n",
    "    company = \"hp\"\n",
    "    def __init__(self, name, salary):\n",
    "        self.name = name\n",
    "        self.salary = salary\n",
    "\n",
    "    def printdetails(self):\n",
    "        print(f\"My name is {self.name} i work in {self.company} and my slary is {self.salary}\")\n",
    "\n",
    "        \n",
    "\n",
    "e = Mayank(\"Mayank\" , 10000000)\n",
    "e.printdetails()\n",
    "\n",
    "        "
   ]
  },
  {
   "cell_type": "code",
   "execution_count": 1,
   "id": "aed138f5-0e6a-42a1-8bf8-8c8c9e3e6088",
   "metadata": {},
   "outputs": [
    {
     "data": {
      "text/plain": [
       "27"
      ]
     },
     "execution_count": 1,
     "metadata": {},
     "output_type": "execute_result"
    }
   ],
   "source": [
    "#lambda function use for simpler funcvtion in biger codes\n",
    "cube = lambda x:x*x*x\n",
    "cube(3)"
   ]
  },
  {
   "cell_type": "code",
   "execution_count": 2,
   "id": "46313a86-74f0-432c-998f-0155366e458f",
   "metadata": {},
   "outputs": [],
   "source": [
    "freq = {2 : 3}\n",
    "num = 2\n",
    "freq[num] = freq[num] + 1"
   ]
  },
  {
   "cell_type": "code",
   "execution_count": 3,
   "id": "7f13ccf9-db87-4101-a06f-70ab283770fb",
   "metadata": {},
   "outputs": [
    {
     "name": "stdout",
     "output_type": "stream",
     "text": [
      "4\n"
     ]
    }
   ],
   "source": [
    "print(freq[num])"
   ]
  },
  {
   "cell_type": "code",
   "execution_count": null,
   "id": "63fd373b-e35f-4c46-b8a7-1044d4306b83",
   "metadata": {},
   "outputs": [],
   "source": []
  }
 ],
 "metadata": {
  "kernelspec": {
   "display_name": "Python [conda env:base] *",
   "language": "python",
   "name": "conda-base-py"
  },
  "language_info": {
   "codemirror_mode": {
    "name": "ipython",
    "version": 3
   },
   "file_extension": ".py",
   "mimetype": "text/x-python",
   "name": "python",
   "nbconvert_exporter": "python",
   "pygments_lexer": "ipython3",
   "version": "3.13.5"
  }
 },
 "nbformat": 4,
 "nbformat_minor": 5
}

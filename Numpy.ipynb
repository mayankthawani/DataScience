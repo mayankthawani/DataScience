{
 "cells": [
  {
   "cell_type": "code",
   "execution_count": 6,
   "id": "d9dfbeb9-6055-4199-8fce-b7d0c16b2649",
   "metadata": {},
   "outputs": [
    {
     "name": "stdout",
     "output_type": "stream",
     "text": [
      "0.007124662399291992\n"
     ]
    }
   ],
   "source": [
    "#Checking the time between this list and numpy\n",
    "import time \n",
    "import numpy as np\n",
    "size = 1_000_000\n",
    "list1 = list(range(size))\n",
    "npa = np.array(list1)\n",
    "start = time.time()\n",
    "numpy_squares = npa ** 2\n",
    "end = time.time()\n",
    "print(end - start)"
   ]
  },
  {
   "cell_type": "code",
   "execution_count": 2,
   "id": "061da727-8cb7-4570-a7a3-d8e0c15e3597",
   "metadata": {},
   "outputs": [
    {
     "name": "stdout",
     "output_type": "stream",
     "text": [
      "Python list square time: 0.17847037315368652\n"
     ]
    }
   ],
   "source": [
    "import time \n",
    "size = 1_000_000\n",
    "list1 = list(range(size))\n",
    "list2 = list(range(size))\n",
    "start = time.time()\n",
    "list_squares = [x**2 for x in list1]\n",
    "end = time.time()\n",
    "print(\"Python list square time:\", end - start)"
   ]
  },
  {
   "cell_type": "code",
   "execution_count": null,
   "id": "53d9482f-1ce0-4e5b-88f4-e9dd30b219e4",
   "metadata": {},
   "outputs": [],
   "source": [
    "#Creating numpyu arrays\n",
    "import numpy as np \n"
   ]
  }
 ],
 "metadata": {
  "kernelspec": {
   "display_name": "Python [conda env:base] *",
   "language": "python",
   "name": "conda-base-py"
  },
  "language_info": {
   "codemirror_mode": {
    "name": "ipython",
    "version": 3
   },
   "file_extension": ".py",
   "mimetype": "text/x-python",
   "name": "python",
   "nbconvert_exporter": "python",
   "pygments_lexer": "ipython3",
   "version": "3.13.5"
  }
 },
 "nbformat": 4,
 "nbformat_minor": 5
}

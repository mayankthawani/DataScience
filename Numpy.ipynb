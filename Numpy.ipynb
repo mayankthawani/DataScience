{
 "cells": [
  {
   "cell_type": "code",
   "execution_count": 6,
   "id": "d9dfbeb9-6055-4199-8fce-b7d0c16b2649",
   "metadata": {},
   "outputs": [
    {
     "name": "stdout",
     "output_type": "stream",
     "text": [
      "0.007124662399291992\n"
     ]
    }
   ],
   "source": [
    "#Checking the time between this list and numpy\n",
    "import time \n",
    "import numpy as np\n",
    "size = 1_000_000\n",
    "list1 = list(range(size))\n",
    "npa = np.array(list1)\n",
    "start = time.time()\n",
    "numpy_squares = npa ** 2\n",
    "end = time.time()\n",
    "print(end - start)"
   ]
  },
  {
   "cell_type": "code",
   "execution_count": 2,
   "id": "061da727-8cb7-4570-a7a3-d8e0c15e3597",
   "metadata": {},
   "outputs": [
    {
     "name": "stdout",
     "output_type": "stream",
     "text": [
      "Python list square time: 0.17847037315368652\n"
     ]
    }
   ],
   "source": [
    "import time \n",
    "size = 1_000_000\n",
    "list1 = list(range(size))\n",
    "list2 = list(range(size))\n",
    "start = time.time()\n",
    "list_squares = [x**2 for x in list1]\n",
    "end = time.time()\n",
    "print(\"Python list square time:\", end - start)"
   ]
  },
  {
   "cell_type": "code",
   "execution_count": 1,
   "id": "53d9482f-1ce0-4e5b-88f4-e9dd30b219e4",
   "metadata": {},
   "outputs": [],
   "source": [
    "#Creating numpyu arrays\n",
    "import numpy as np\n",
    "arr = np.array([1,2,3,4,5])\n",
    "\n"
   ]
  },
  {
   "cell_type": "code",
   "execution_count": 4,
   "id": "24e5491f-b0d3-4b99-8189-087c0763d51c",
   "metadata": {},
   "outputs": [
    {
     "name": "stdout",
     "output_type": "stream",
     "text": [
      "[[0. 0. 0. 0.]\n",
      " [0. 0. 0. 0.]\n",
      " [0. 0. 0. 0.]]\n"
     ]
    }
   ],
   "source": [
    "arr = np.zeros((3,4))\n",
    "print(arr)"
   ]
  },
  {
   "cell_type": "code",
   "execution_count": 2,
   "id": "7d6315cb-1cf6-4802-9a33-a963c3a11289",
   "metadata": {},
   "outputs": [
    {
     "data": {
      "text/plain": [
       "array([[ 1,  2,  3],\n",
       "       [ 4,  5,  6],\n",
       "       [ 7,  8,  9],\n",
       "       [10, 11, 12]])"
      ]
     },
     "execution_count": 2,
     "metadata": {},
     "output_type": "execute_result"
    }
   ],
   "source": [
    "#numpy indexing \n",
    "import numpy as np\n",
    "arr = np.array([[1,2,3] , [4,5,6] , [7,8,9] , [10,11,12]])\n",
    "arr"
   ]
  },
  {
   "cell_type": "code",
   "execution_count": 4,
   "id": "a32f75b0-8563-4b68-b0c7-f157c4f8c6e5",
   "metadata": {},
   "outputs": [
    {
     "data": {
      "text/plain": [
       "array([ 1,  2,  3,  4,  5,  6,  7,  8,  9, 10, 11, 12])"
      ]
     },
     "execution_count": 4,
     "metadata": {},
     "output_type": "execute_result"
    }
   ],
   "source": [
    "flat =arr.flatten()\n",
    "flat"
   ]
  },
  {
   "cell_type": "code",
   "execution_count": 5,
   "id": "c68194ad-9451-4b32-987f-2a5cfbf2eb77",
   "metadata": {},
   "outputs": [
    {
     "data": {
      "text/plain": [
       "np.int64(1)"
      ]
     },
     "execution_count": 5,
     "metadata": {},
     "output_type": "execute_result"
    }
   ],
   "source": [
    "flat[0]"
   ]
  },
  {
   "cell_type": "code",
   "execution_count": 6,
   "id": "2599f66c-61a3-4ee6-9fb8-0e3b7a2398df",
   "metadata": {},
   "outputs": [
    {
     "data": {
      "text/plain": [
       "array([ 4,  5,  6,  7,  8,  9, 10, 11, 12])"
      ]
     },
     "execution_count": 6,
     "metadata": {},
     "output_type": "execute_result"
    }
   ],
   "source": [
    "flat[3:]"
   ]
  },
  {
   "cell_type": "code",
   "execution_count": 7,
   "id": "06e69621-4020-481d-b22a-b8f900cd6270",
   "metadata": {},
   "outputs": [
    {
     "data": {
      "text/plain": [
       "array([ 1,  2,  3,  4,  5,  6,  7,  8,  9, 10, 11, 12])"
      ]
     },
     "execution_count": 7,
     "metadata": {},
     "output_type": "execute_result"
    }
   ],
   "source": [
    "flat[0:13]"
   ]
  },
  {
   "cell_type": "code",
   "execution_count": 8,
   "id": "dd22815d-4794-423c-9112-7994f613baa0",
   "metadata": {},
   "outputs": [
    {
     "data": {
      "text/plain": [
       "array([ 1,  3,  5,  7,  9, 11])"
      ]
     },
     "execution_count": 8,
     "metadata": {},
     "output_type": "execute_result"
    }
   ],
   "source": [
    "flat[::2]"
   ]
  },
  {
   "cell_type": "code",
   "execution_count": 10,
   "id": "51165f9f-03af-45bb-b189-13baf091e3cc",
   "metadata": {},
   "outputs": [
    {
     "name": "stdout",
     "output_type": "stream",
     "text": [
      "(3, 3)\n"
     ]
    }
   ],
   "source": [
    "#Create a 3×3 array filled with random numbers and print its shape.\n",
    "arr1 = np.array([[1,2,3] , [76,23,100] , [300,29,101]])\n",
    "print(arr1.shape)"
   ]
  },
  {
   "cell_type": "code",
   "execution_count": 11,
   "id": "dd4a43ce-a0a2-4e52-aa8a-bf094422bdbf",
   "metadata": {},
   "outputs": [
    {
     "name": "stdout",
     "output_type": "stream",
     "text": [
      "[[   2    2    3]\n",
      " [   3  100 1000]]\n"
     ]
    }
   ],
   "source": [
    "#Convert an array of floats [1.1, 2.2, 3.3] into integers.\n",
    "arr = np.array([[2.2 ,2.00986 , 3.45564] , [3.4 , 100.000 , 1000.000]])\n",
    "intarr = arr.astype(int)\n",
    "print(intarr)"
   ]
  },
  {
   "cell_type": "code",
   "execution_count": 13,
   "id": "fe78c6b4-6ad3-4325-886c-74bf9b3eeac1",
   "metadata": {},
   "outputs": [
    {
     "name": "stdout",
     "output_type": "stream",
     "text": [
      "[2 4]\n"
     ]
    }
   ],
   "source": [
    "#Use fancy indexing to extract even numbers from [1, 2, 3, 4, 5, 6].\n",
    "arr = np.array([1, 2, 3, 4, 5])\n",
    "mask = arr % 2 ==0\n",
    "even = arr[mask]\n",
    "print(even)"
   ]
  },
  {
   "cell_type": "code",
   "execution_count": 14,
   "id": "385b63ef-46de-457c-86da-849ff1fb4f95",
   "metadata": {},
   "outputs": [
    {
     "name": "stdout",
     "output_type": "stream",
     "text": [
      "[[1 2 3]\n",
      " [3 4 5]\n",
      " [6 7 8]]\n"
     ]
    }
   ],
   "source": [
    "arr = np.array([[1,2,3] , [3,4,5] , [6,7,8]])\n",
    "print(arr)"
   ]
  },
  {
   "cell_type": "code",
   "execution_count": 15,
   "id": "7fc6aa5f-1b96-4aa2-974d-ab363da55bfc",
   "metadata": {},
   "outputs": [
    {
     "data": {
      "text/plain": [
       "array([[2, 3],\n",
       "       [4, 5]])"
      ]
     },
     "execution_count": 15,
     "metadata": {},
     "output_type": "execute_result"
    }
   ],
   "source": [
    "arr[0:2 , 1:3]"
   ]
  },
  {
   "cell_type": "code",
   "execution_count": 16,
   "id": "6714f284-fee8-47a9-93cc-7c03fdd1d1c1",
   "metadata": {},
   "outputs": [
    {
     "name": "stdout",
     "output_type": "stream",
     "text": [
      "int64\n"
     ]
    }
   ],
   "source": [
    "#Numpy Data Types\n",
    "\n",
    "import numpy as np\n",
    "arr = np.array([1,2,3,4,5,6,90])\n",
    "print(arr.dtype)"
   ]
  },
  {
   "cell_type": "code",
   "execution_count": 17,
   "id": "df4d999e-f01e-4ea3-a119-bd4c3ee7bfa4",
   "metadata": {},
   "outputs": [
    {
     "data": {
      "text/plain": [
       "array([ 1.,  2.,  3.,  4.,  5.,  6., 90.])"
      ]
     },
     "execution_count": 17,
     "metadata": {},
     "output_type": "execute_result"
    }
   ],
   "source": [
    "arr.astype(\"float64\")"
   ]
  },
  {
   "cell_type": "code",
   "execution_count": 20,
   "id": "a4f7b0db-4947-4aeb-a7fa-6c1c41309a02",
   "metadata": {},
   "outputs": [
    {
     "name": "stdout",
     "output_type": "stream",
     "text": [
      "[ 1  4  9 16 25 36]\n"
     ]
    }
   ],
   "source": [
    "#broadcasting in numpy means like no need of running the loop as we run in the list\n",
    "import numpy as np\n",
    "arr1 = np.array([1,2,3,4,5,6])\n",
    "power = arr1 ** 2\n",
    "print(power)"
   ]
  },
  {
   "cell_type": "code",
   "execution_count": 22,
   "id": "8ef16a8b-40f6-47b6-9857-451d98777d6b",
   "metadata": {},
   "outputs": [
    {
     "data": {
      "text/plain": [
       "array([11, 14, 19, 26, 35, 46])"
      ]
     },
     "execution_count": 22,
     "metadata": {},
     "output_type": "execute_result"
    }
   ],
   "source": [
    "power + 10"
   ]
  },
  {
   "cell_type": "code",
   "execution_count": null,
   "id": "1dad0f02-43d2-4de9-9df5-136698f4d3ce",
   "metadata": {},
   "outputs": [],
   "source": []
  }
 ],
 "metadata": {
  "kernelspec": {
   "display_name": "Python [conda env:base] *",
   "language": "python",
   "name": "conda-base-py"
  },
  "language_info": {
   "codemirror_mode": {
    "name": "ipython",
    "version": 3
   },
   "file_extension": ".py",
   "mimetype": "text/x-python",
   "name": "python",
   "nbconvert_exporter": "python",
   "pygments_lexer": "ipython3",
   "version": "3.13.5"
  }
 },
 "nbformat": 4,
 "nbformat_minor": 5
}
